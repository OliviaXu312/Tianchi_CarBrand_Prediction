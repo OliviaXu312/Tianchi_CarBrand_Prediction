{
 "cells": [
  {
   "cell_type": "code",
   "execution_count": 1,
   "metadata": {
    "scrolled": true
   },
   "outputs": [
    {
     "name": "stderr",
     "output_type": "stream",
     "text": [
      "/Users/olivia/anaconda/lib/python3.6/site-packages/sklearn/cross_validation.py:41: DeprecationWarning: This module was deprecated in version 0.18 in favor of the model_selection module into which all the refactored classes and functions are moved. Also note that the interface of the new CV iterators are different from that of this module. This module will be removed in 0.20.\n",
      "  \"This module will be removed in 0.20.\", DeprecationWarning)\n",
      "/Users/olivia/anaconda/lib/python3.6/site-packages/sklearn/grid_search.py:42: DeprecationWarning: This module was deprecated in version 0.18 in favor of the model_selection module into which all the refactored classes and functions are moved. This module will be removed in 0.20.\n",
      "  DeprecationWarning)\n",
      "/Users/olivia/anaconda/lib/python3.6/site-packages/sklearn/learning_curve.py:22: DeprecationWarning: This module was deprecated in version 0.18 in favor of the model_selection module into which all the functions are moved. This module will be removed in 0.20\n",
      "  DeprecationWarning)\n"
     ]
    }
   ],
   "source": [
    "import pandas as pd\n",
    "import numpy as np\n",
    "import time\n",
    "import datetime \n",
    "from dateutil.parser import parse\n",
    "from datetime import date, timedelta\n",
    "from pandas.tseries.offsets import *\n",
    "\n",
    "from sklearn.model_selection import train_test_split\n",
    "from sklearn import linear_model\n",
    "from sklearn.linear_model import *\n",
    "from sklearn.neighbors import KNeighborsRegressor\n",
    "from sklearn.metrics import mean_squared_error\n",
    "from sklearn import *\n",
    "from catboost import CatBoostRegressor\n",
    "\n",
    "from lightgbm import LGBMRegressor\n",
    "import pickle\n",
    "from lunar import *\n",
    "from copy import deepcopy\n",
    "\n",
    "%matplotlib inline"
   ]
  },
  {
   "cell_type": "markdown",
   "metadata": {},
   "source": [
    "## data 集初步整理"
   ]
  },
  {
   "cell_type": "code",
   "execution_count": 2,
   "metadata": {
    "collapsed": true
   },
   "outputs": [],
   "source": [
    "df_train = pd.read_table('train_20171215.txt',encoding='gbk',sep='\\t')"
   ]
  },
  {
   "cell_type": "code",
   "execution_count": 3,
   "metadata": {},
   "outputs": [
    {
     "name": "stdout",
     "output_type": "stream",
     "text": [
      "(4773, 4)\n"
     ]
    }
   ],
   "source": [
    "train_index = df_train.shape[0]\n",
    "train_y = df_train['cnt']\n",
    "print(df_train.shape)"
   ]
  },
  {
   "cell_type": "code",
   "execution_count": 4,
   "metadata": {},
   "outputs": [
    {
     "data": {
      "text/plain": [
       "0      20\n",
       "1      48\n",
       "2      16\n",
       "3      20\n",
       "4    1411\n",
       "Name: cnt, dtype: int64"
      ]
     },
     "execution_count": 4,
     "metadata": {},
     "output_type": "execute_result"
    }
   ],
   "source": [
    "train_y.head()"
   ]
  },
  {
   "cell_type": "code",
   "execution_count": 5,
   "metadata": {
    "collapsed": true
   },
   "outputs": [],
   "source": [
    "df_train = df_train[['date','day_of_week','cnt']].groupby(['date','day_of_week']).cnt.agg('sum').reset_index()"
   ]
  },
  {
   "cell_type": "code",
   "execution_count": 6,
   "metadata": {},
   "outputs": [
    {
     "data": {
      "text/html": [
       "<div>\n",
       "<style>\n",
       "    .dataframe thead tr:only-child th {\n",
       "        text-align: right;\n",
       "    }\n",
       "\n",
       "    .dataframe thead th {\n",
       "        text-align: left;\n",
       "    }\n",
       "\n",
       "    .dataframe tbody tr th {\n",
       "        vertical-align: top;\n",
       "    }\n",
       "</style>\n",
       "<table border=\"1\" class=\"dataframe\">\n",
       "  <thead>\n",
       "    <tr style=\"text-align: right;\">\n",
       "      <th></th>\n",
       "      <th>date</th>\n",
       "      <th>day_of_week</th>\n",
       "      <th>cnt</th>\n",
       "    </tr>\n",
       "  </thead>\n",
       "  <tbody>\n",
       "    <tr>\n",
       "      <th>1022</th>\n",
       "      <td>1023</td>\n",
       "      <td>6</td>\n",
       "      <td>506</td>\n",
       "    </tr>\n",
       "    <tr>\n",
       "      <th>1023</th>\n",
       "      <td>1024</td>\n",
       "      <td>1</td>\n",
       "      <td>3439</td>\n",
       "    </tr>\n",
       "    <tr>\n",
       "      <th>1024</th>\n",
       "      <td>1025</td>\n",
       "      <td>2</td>\n",
       "      <td>3208</td>\n",
       "    </tr>\n",
       "    <tr>\n",
       "      <th>1025</th>\n",
       "      <td>1026</td>\n",
       "      <td>3</td>\n",
       "      <td>2277</td>\n",
       "    </tr>\n",
       "    <tr>\n",
       "      <th>1026</th>\n",
       "      <td>1027</td>\n",
       "      <td>4</td>\n",
       "      <td>2144</td>\n",
       "    </tr>\n",
       "    <tr>\n",
       "      <th>1027</th>\n",
       "      <td>1028</td>\n",
       "      <td>5</td>\n",
       "      <td>2519</td>\n",
       "    </tr>\n",
       "    <tr>\n",
       "      <th>1028</th>\n",
       "      <td>1029</td>\n",
       "      <td>6</td>\n",
       "      <td>195</td>\n",
       "    </tr>\n",
       "    <tr>\n",
       "      <th>1029</th>\n",
       "      <td>1030</td>\n",
       "      <td>2</td>\n",
       "      <td>4003</td>\n",
       "    </tr>\n",
       "    <tr>\n",
       "      <th>1030</th>\n",
       "      <td>1031</td>\n",
       "      <td>3</td>\n",
       "      <td>2513</td>\n",
       "    </tr>\n",
       "    <tr>\n",
       "      <th>1031</th>\n",
       "      <td>1032</td>\n",
       "      <td>4</td>\n",
       "      <td>1306</td>\n",
       "    </tr>\n",
       "  </tbody>\n",
       "</table>\n",
       "</div>"
      ],
      "text/plain": [
       "      date  day_of_week   cnt\n",
       "1022  1023            6   506\n",
       "1023  1024            1  3439\n",
       "1024  1025            2  3208\n",
       "1025  1026            3  2277\n",
       "1026  1027            4  2144\n",
       "1027  1028            5  2519\n",
       "1028  1029            6   195\n",
       "1029  1030            2  4003\n",
       "1030  1031            3  2513\n",
       "1031  1032            4  1306"
      ]
     },
     "execution_count": 6,
     "metadata": {},
     "output_type": "execute_result"
    }
   ],
   "source": [
    "df_train.tail(10)"
   ]
  },
  {
   "cell_type": "markdown",
   "metadata": {},
   "source": [
    "## A棒答案"
   ]
  },
  {
   "cell_type": "code",
   "execution_count": 7,
   "metadata": {},
   "outputs": [
    {
     "data": {
      "text/html": [
       "<div>\n",
       "<style>\n",
       "    .dataframe thead tr:only-child th {\n",
       "        text-align: right;\n",
       "    }\n",
       "\n",
       "    .dataframe thead th {\n",
       "        text-align: left;\n",
       "    }\n",
       "\n",
       "    .dataframe tbody tr th {\n",
       "        vertical-align: top;\n",
       "    }\n",
       "</style>\n",
       "<table border=\"1\" class=\"dataframe\">\n",
       "  <thead>\n",
       "    <tr style=\"text-align: right;\">\n",
       "      <th></th>\n",
       "      <th>0</th>\n",
       "      <th>1</th>\n",
       "    </tr>\n",
       "  </thead>\n",
       "  <tbody>\n",
       "    <tr>\n",
       "      <th>0</th>\n",
       "      <td>1032</td>\n",
       "      <td>510</td>\n",
       "    </tr>\n",
       "    <tr>\n",
       "      <th>1</th>\n",
       "      <td>1033</td>\n",
       "      <td>2050</td>\n",
       "    </tr>\n",
       "    <tr>\n",
       "      <th>2</th>\n",
       "      <td>1034</td>\n",
       "      <td>388</td>\n",
       "    </tr>\n",
       "    <tr>\n",
       "      <th>3</th>\n",
       "      <td>1035</td>\n",
       "      <td>2550</td>\n",
       "    </tr>\n",
       "    <tr>\n",
       "      <th>4</th>\n",
       "      <td>1036</td>\n",
       "      <td>2899</td>\n",
       "    </tr>\n",
       "  </tbody>\n",
       "</table>\n",
       "</div>"
      ],
      "text/plain": [
       "      0     1\n",
       "0  1032   510\n",
       "1  1033  2050\n",
       "2  1034   388\n",
       "3  1035  2550\n",
       "4  1036  2899"
      ]
     },
     "execution_count": 7,
     "metadata": {},
     "output_type": "execute_result"
    }
   ],
   "source": [
    "df_train_2 = pd.read_table('test_A_20171225.txt',encoding='gbk',sep='\\t')\n",
    "df_train_2 = df_train_2.set_index('date')\n",
    "df_train_2_ans = pd.read_table('answer_A_20180225.txt',encoding='gbk',sep='\\t',header=None)\n",
    "df_train_2_ans.head()"
   ]
  },
  {
   "cell_type": "code",
   "execution_count": 8,
   "metadata": {
    "scrolled": true
   },
   "outputs": [
    {
     "data": {
      "text/html": [
       "<div>\n",
       "<style>\n",
       "    .dataframe thead tr:only-child th {\n",
       "        text-align: right;\n",
       "    }\n",
       "\n",
       "    .dataframe thead th {\n",
       "        text-align: left;\n",
       "    }\n",
       "\n",
       "    .dataframe tbody tr th {\n",
       "        vertical-align: top;\n",
       "    }\n",
       "</style>\n",
       "<table border=\"1\" class=\"dataframe\">\n",
       "  <thead>\n",
       "    <tr style=\"text-align: right;\">\n",
       "      <th></th>\n",
       "      <th>date</th>\n",
       "      <th>day_of_week</th>\n",
       "      <th>cnt</th>\n",
       "    </tr>\n",
       "  </thead>\n",
       "  <tbody>\n",
       "    <tr>\n",
       "      <th>0</th>\n",
       "      <td>1033</td>\n",
       "      <td>5</td>\n",
       "      <td>2050</td>\n",
       "    </tr>\n",
       "    <tr>\n",
       "      <th>1</th>\n",
       "      <td>1034</td>\n",
       "      <td>6</td>\n",
       "      <td>388</td>\n",
       "    </tr>\n",
       "    <tr>\n",
       "      <th>2</th>\n",
       "      <td>1035</td>\n",
       "      <td>1</td>\n",
       "      <td>2550</td>\n",
       "    </tr>\n",
       "    <tr>\n",
       "      <th>3</th>\n",
       "      <td>1036</td>\n",
       "      <td>2</td>\n",
       "      <td>2899</td>\n",
       "    </tr>\n",
       "    <tr>\n",
       "      <th>4</th>\n",
       "      <td>1037</td>\n",
       "      <td>3</td>\n",
       "      <td>1640</td>\n",
       "    </tr>\n",
       "  </tbody>\n",
       "</table>\n",
       "</div>"
      ],
      "text/plain": [
       "   date  day_of_week   cnt\n",
       "0  1033            5  2050\n",
       "1  1034            6   388\n",
       "2  1035            1  2550\n",
       "3  1036            2  2899\n",
       "4  1037            3  1640"
      ]
     },
     "execution_count": 8,
     "metadata": {},
     "output_type": "execute_result"
    }
   ],
   "source": [
    "df_train_2['cnt'] = df_train_2_ans[1].values\n",
    "df_train_2.drop(df_train_2.index[0], inplace=True)\n",
    "df_train_2 = df_train_2.reset_index()\n",
    "df_train_2.head()"
   ]
  },
  {
   "cell_type": "code",
   "execution_count": 9,
   "metadata": {
    "collapsed": true
   },
   "outputs": [],
   "source": [
    "df_train = pd.concat([df_train, df_train_2])"
   ]
  },
  {
   "cell_type": "markdown",
   "metadata": {},
   "source": [
    "## test_df"
   ]
  },
  {
   "cell_type": "code",
   "execution_count": 10,
   "metadata": {
    "collapsed": true
   },
   "outputs": [],
   "source": [
    "df_test = pd.read_table('test_B_20171225.txt',encoding='gbk',sep='\\t')"
   ]
  },
  {
   "cell_type": "code",
   "execution_count": 11,
   "metadata": {},
   "outputs": [
    {
     "data": {
      "text/html": [
       "<div>\n",
       "<style>\n",
       "    .dataframe thead tr:only-child th {\n",
       "        text-align: right;\n",
       "    }\n",
       "\n",
       "    .dataframe thead th {\n",
       "        text-align: left;\n",
       "    }\n",
       "\n",
       "    .dataframe tbody tr th {\n",
       "        vertical-align: top;\n",
       "    }\n",
       "</style>\n",
       "<table border=\"1\" class=\"dataframe\">\n",
       "  <thead>\n",
       "    <tr style=\"text-align: right;\">\n",
       "      <th></th>\n",
       "      <th>date</th>\n",
       "      <th>day_of_week</th>\n",
       "    </tr>\n",
       "  </thead>\n",
       "  <tbody>\n",
       "    <tr>\n",
       "      <th>267</th>\n",
       "      <td>1575</td>\n",
       "      <td>5</td>\n",
       "    </tr>\n",
       "    <tr>\n",
       "      <th>268</th>\n",
       "      <td>1576</td>\n",
       "      <td>6</td>\n",
       "    </tr>\n",
       "    <tr>\n",
       "      <th>269</th>\n",
       "      <td>1577</td>\n",
       "      <td>7</td>\n",
       "    </tr>\n",
       "    <tr>\n",
       "      <th>270</th>\n",
       "      <td>1578</td>\n",
       "      <td>1</td>\n",
       "    </tr>\n",
       "    <tr>\n",
       "      <th>271</th>\n",
       "      <td>1579</td>\n",
       "      <td>2</td>\n",
       "    </tr>\n",
       "  </tbody>\n",
       "</table>\n",
       "</div>"
      ],
      "text/plain": [
       "     date  day_of_week\n",
       "267  1575            5\n",
       "268  1576            6\n",
       "269  1577            7\n",
       "270  1578            1\n",
       "271  1579            2"
      ]
     },
     "execution_count": 11,
     "metadata": {},
     "output_type": "execute_result"
    }
   ],
   "source": [
    "df_test.tail()"
   ]
  },
  {
   "cell_type": "code",
   "execution_count": 12,
   "metadata": {
    "collapsed": true
   },
   "outputs": [],
   "source": [
    "test_index = df_test['date']"
   ]
  },
  {
   "cell_type": "markdown",
   "metadata": {},
   "source": [
    "## 融合"
   ]
  },
  {
   "cell_type": "code",
   "execution_count": 13,
   "metadata": {
    "collapsed": true
   },
   "outputs": [],
   "source": [
    "df_grouped = pd.concat([df_train, df_test])"
   ]
  },
  {
   "cell_type": "code",
   "execution_count": null,
   "metadata": {
    "collapsed": true
   },
   "outputs": [],
   "source": []
  },
  {
   "cell_type": "code",
   "execution_count": 14,
   "metadata": {
    "collapsed": true
   },
   "outputs": [],
   "source": [
    "df_grouped = df_grouped.reset_index().drop('index', axis=1)"
   ]
  },
  {
   "cell_type": "code",
   "execution_count": 16,
   "metadata": {},
   "outputs": [
    {
     "data": {
      "text/html": [
       "<div>\n",
       "<style>\n",
       "    .dataframe thead tr:only-child th {\n",
       "        text-align: right;\n",
       "    }\n",
       "\n",
       "    .dataframe thead th {\n",
       "        text-align: left;\n",
       "    }\n",
       "\n",
       "    .dataframe tbody tr th {\n",
       "        vertical-align: top;\n",
       "    }\n",
       "</style>\n",
       "<table border=\"1\" class=\"dataframe\">\n",
       "  <thead>\n",
       "    <tr style=\"text-align: right;\">\n",
       "      <th></th>\n",
       "      <th>cnt</th>\n",
       "      <th>date</th>\n",
       "      <th>day_of_week</th>\n",
       "    </tr>\n",
       "  </thead>\n",
       "  <tbody>\n",
       "    <tr>\n",
       "      <th>0</th>\n",
       "      <td>68.0</td>\n",
       "      <td>1</td>\n",
       "      <td>3</td>\n",
       "    </tr>\n",
       "    <tr>\n",
       "      <th>1</th>\n",
       "      <td>36.0</td>\n",
       "      <td>2</td>\n",
       "      <td>4</td>\n",
       "    </tr>\n",
       "    <tr>\n",
       "      <th>2</th>\n",
       "      <td>5565.0</td>\n",
       "      <td>3</td>\n",
       "      <td>5</td>\n",
       "    </tr>\n",
       "    <tr>\n",
       "      <th>3</th>\n",
       "      <td>4966.0</td>\n",
       "      <td>4</td>\n",
       "      <td>6</td>\n",
       "    </tr>\n",
       "    <tr>\n",
       "      <th>4</th>\n",
       "      <td>3346.0</td>\n",
       "      <td>5</td>\n",
       "      <td>7</td>\n",
       "    </tr>\n",
       "    <tr>\n",
       "      <th>5</th>\n",
       "      <td>3396.0</td>\n",
       "      <td>6</td>\n",
       "      <td>1</td>\n",
       "    </tr>\n",
       "    <tr>\n",
       "      <th>6</th>\n",
       "      <td>4146.0</td>\n",
       "      <td>7</td>\n",
       "      <td>2</td>\n",
       "    </tr>\n",
       "    <tr>\n",
       "      <th>7</th>\n",
       "      <td>3096.0</td>\n",
       "      <td>8</td>\n",
       "      <td>3</td>\n",
       "    </tr>\n",
       "    <tr>\n",
       "      <th>8</th>\n",
       "      <td>2713.0</td>\n",
       "      <td>9</td>\n",
       "      <td>4</td>\n",
       "    </tr>\n",
       "    <tr>\n",
       "      <th>9</th>\n",
       "      <td>2409.0</td>\n",
       "      <td>10</td>\n",
       "      <td>5</td>\n",
       "    </tr>\n",
       "  </tbody>\n",
       "</table>\n",
       "</div>"
      ],
      "text/plain": [
       "      cnt  date  day_of_week\n",
       "0    68.0     1            3\n",
       "1    36.0     2            4\n",
       "2  5565.0     3            5\n",
       "3  4966.0     4            6\n",
       "4  3346.0     5            7\n",
       "5  3396.0     6            1\n",
       "6  4146.0     7            2\n",
       "7  3096.0     8            3\n",
       "8  2713.0     9            4\n",
       "9  2409.0    10            5"
      ]
     },
     "execution_count": 16,
     "metadata": {},
     "output_type": "execute_result"
    }
   ],
   "source": [
    "df_grouped.head(10)"
   ]
  },
  {
   "cell_type": "code",
   "execution_count": 15,
   "metadata": {},
   "outputs": [
    {
     "name": "stdout",
     "output_type": "stream",
     "text": [
      "(1579, 3)\n"
     ]
    }
   ],
   "source": [
    "print(df_grouped.shape)"
   ]
  },
  {
   "cell_type": "code",
   "execution_count": 16,
   "metadata": {},
   "outputs": [
    {
     "data": {
      "text/html": [
       "<div>\n",
       "<style>\n",
       "    .dataframe thead tr:only-child th {\n",
       "        text-align: right;\n",
       "    }\n",
       "\n",
       "    .dataframe thead th {\n",
       "        text-align: left;\n",
       "    }\n",
       "\n",
       "    .dataframe tbody tr th {\n",
       "        vertical-align: top;\n",
       "    }\n",
       "</style>\n",
       "<table border=\"1\" class=\"dataframe\">\n",
       "  <thead>\n",
       "    <tr style=\"text-align: right;\">\n",
       "      <th></th>\n",
       "      <th>cnt</th>\n",
       "      <th>date</th>\n",
       "      <th>day_of_week</th>\n",
       "    </tr>\n",
       "  </thead>\n",
       "  <tbody>\n",
       "    <tr>\n",
       "      <th>1574</th>\n",
       "      <td>NaN</td>\n",
       "      <td>1575</td>\n",
       "      <td>5</td>\n",
       "    </tr>\n",
       "    <tr>\n",
       "      <th>1575</th>\n",
       "      <td>NaN</td>\n",
       "      <td>1576</td>\n",
       "      <td>6</td>\n",
       "    </tr>\n",
       "    <tr>\n",
       "      <th>1576</th>\n",
       "      <td>NaN</td>\n",
       "      <td>1577</td>\n",
       "      <td>7</td>\n",
       "    </tr>\n",
       "    <tr>\n",
       "      <th>1577</th>\n",
       "      <td>NaN</td>\n",
       "      <td>1578</td>\n",
       "      <td>1</td>\n",
       "    </tr>\n",
       "    <tr>\n",
       "      <th>1578</th>\n",
       "      <td>NaN</td>\n",
       "      <td>1579</td>\n",
       "      <td>2</td>\n",
       "    </tr>\n",
       "  </tbody>\n",
       "</table>\n",
       "</div>"
      ],
      "text/plain": [
       "      cnt  date  day_of_week\n",
       "1574  NaN  1575            5\n",
       "1575  NaN  1576            6\n",
       "1576  NaN  1577            7\n",
       "1577  NaN  1578            1\n",
       "1578  NaN  1579            2"
      ]
     },
     "execution_count": 16,
     "metadata": {},
     "output_type": "execute_result"
    }
   ],
   "source": [
    "df_grouped.tail()"
   ]
  },
  {
   "cell_type": "markdown",
   "metadata": {},
   "source": [
    "## 制作 df"
   ]
  },
  {
   "cell_type": "code",
   "execution_count": 17,
   "metadata": {
    "collapsed": true
   },
   "outputs": [],
   "source": [
    "df_grouped['gap']=0"
   ]
  },
  {
   "cell_type": "code",
   "execution_count": 18,
   "metadata": {},
   "outputs": [
    {
     "name": "stderr",
     "output_type": "stream",
     "text": [
      "/Users/olivia/anaconda/lib/python3.6/site-packages/ipykernel_launcher.py:3: SettingWithCopyWarning: \n",
      "A value is trying to be set on a copy of a slice from a DataFrame\n",
      "\n",
      "See the caveats in the documentation: http://pandas.pydata.org/pandas-docs/stable/indexing.html#indexing-view-versus-copy\n",
      "  This is separate from the ipykernel package so we can avoid doing imports until\n"
     ]
    }
   ],
   "source": [
    "for idx, row in df_grouped.iterrows():\n",
    "    if idx==0:\n",
    "        df_grouped.loc[idx,:]['gap']=1\n",
    "        continue\n",
    "    df_grouped.loc[idx, 'gap']=df_grouped.loc[idx,'day_of_week']-df_grouped.loc[idx-1,'day_of_week']\n",
    "    while df_grouped.loc[idx,'gap']<=0:\n",
    "         df_grouped.loc[idx,'gap']+=7"
   ]
  },
  {
   "cell_type": "code",
   "execution_count": 19,
   "metadata": {
    "collapsed": true
   },
   "outputs": [],
   "source": [
    "df_grouped['virtual_date']=pd.NaT"
   ]
  },
  {
   "cell_type": "code",
   "execution_count": 20,
   "metadata": {
    "collapsed": true
   },
   "outputs": [],
   "source": [
    "for idx, row in df_grouped.iterrows():\n",
    "    if idx==0:\n",
    "        d=datetime.date(2013,1,1)\n",
    "        while d.weekday()!=df_grouped.loc[idx,'day_of_week']-1:\n",
    "            d += DateOffset(days=1)\n",
    "        df_grouped.loc[idx, 'virtual_date']=d\n",
    "        continue\n",
    "    df_grouped.loc[idx, 'virtual_date']=df_grouped.loc[idx-1,'virtual_date']+DateOffset(days=row['gap'])"
   ]
  },
  {
   "cell_type": "code",
   "execution_count": 21,
   "metadata": {
    "collapsed": true
   },
   "outputs": [],
   "source": [
    "# get all the holidays\n",
    "holidays={'date':[],\n",
    "          'length':[]}\n",
    "for idx, row in df_grouped.iterrows():\n",
    "    if row['gap']>2:\n",
    "        holidays['length'].append(row['gap'])\n",
    "        holidays['date'].append(row['virtual_date']+DateOffset(days=-(row['gap']//2)))\n",
    "# convert to DataFrame\n",
    "holidays_df = pd.DataFrame(holidays, columns=['date','length'])\n",
    "\n",
    "# get holiday features\n",
    "df_grouped['h_distance'] = 100\n",
    "df_grouped['h_length'] = 0\n",
    "df_grouped['h_month'] = 0\n",
    "df_grouped['h_type']=np.nan\n",
    "df_grouped['weekend'] = df_grouped['day_of_week'].apply(lambda x: 1 if x in [6,7] else 0)\n",
    "for idx, row in df_grouped.iterrows():\n",
    "    delta = holidays_df['date']-row['virtual_date']\n",
    "    nearest_idx = delta.abs().values.argmin()\n",
    "    df_grouped.loc[idx, 'h_distance'] = delta[nearest_idx].days\n",
    "    df_grouped.loc[idx, 'h_length'] = holidays_df.loc[nearest_idx, 'length']\n",
    "    df_grouped.loc[idx, 'h_month'] = holidays_df.loc[nearest_idx, 'date'].month\n",
    "    if df_grouped.loc[idx, 'h_month'] in [1,2]:\n",
    "        df_grouped.loc[idx, 'h_type'] = 1\n",
    "    elif df_grouped.loc[idx, 'h_month'] in [9,10]:\n",
    "        df_grouped.loc[idx, 'h_type'] = 2\n",
    "    else:\n",
    "        df_grouped.loc[idx, 'h_type'] = 0"
   ]
  },
  {
   "cell_type": "code",
   "execution_count": 22,
   "metadata": {
    "collapsed": true
   },
   "outputs": [],
   "source": [
    "df_grouped['month']=df_grouped['virtual_date'].dt.month\n",
    "df_grouped['year']=df_grouped['virtual_date'].dt.year\n",
    "df_grouped['week']=df_grouped['virtual_date'].dt.week\n",
    "df_grouped['day']=df_grouped['virtual_date'].dt.day\n",
    "df_grouped['xun'] = df_grouped['day'].apply(lambda x: x//7)\n",
    "df_grouped['yesterday_hld'] = df_grouped['gap'].apply(lambda x: 1 if x>1 else 0)"
   ]
  },
  {
   "cell_type": "code",
   "execution_count": 23,
   "metadata": {
    "collapsed": true
   },
   "outputs": [],
   "source": [
    "cvt = LunarSolarConverter()\n",
    "df_grouped['lunar_month']=df_grouped['virtual_date'].apply(lambda x: cvt.SolarToLunar(Solar(x.year,x.month,x.day)).lunarMonth)\n",
    "df_grouped['lunar_day']=df_grouped['virtual_date'].apply(lambda x: cvt.SolarToLunar(Solar(x.year,x.month,x.day)).lunarDay)\n",
    "df_grouped['lunar_year']=df_grouped['virtual_date'].apply(lambda x: cvt.SolarToLunar(Solar(x.year,x.month,x.day)).lunarYear)"
   ]
  },
  {
   "cell_type": "code",
   "execution_count": 25,
   "metadata": {
    "collapsed": true
   },
   "outputs": [],
   "source": [
    "df = df_grouped"
   ]
  },
  {
   "cell_type": "code",
   "execution_count": 26,
   "metadata": {
    "collapsed": true
   },
   "outputs": [],
   "source": [
    "df_temp = deepcopy(df.iloc[0:train_index,:])\n",
    "df_temp['cnt'] = train_y"
   ]
  },
  {
   "cell_type": "code",
   "execution_count": 27,
   "metadata": {
    "collapsed": true
   },
   "outputs": [],
   "source": [
    "solar_cols = ['cnt','month','year']\n",
    "lunar_cols = ['cnt','lunar_month','lunar_year']\n",
    "solar_history = pd.DataFrame(df_temp[solar_cols].groupby(['month','year']).cnt.agg('sum'))\n",
    "solar_history_count = pd.DataFrame(df_temp[solar_cols].groupby(['month','year']).count())\n",
    "\n",
    "lunar_history = pd.DataFrame(df_temp[lunar_cols].groupby(['lunar_month', 'lunar_year']).cnt.agg('sum'))\n",
    "lunar_history_count = pd.DataFrame(df_temp[lunar_cols].groupby(['lunar_month', 'lunar_year']).count())"
   ]
  },
  {
   "cell_type": "code",
   "execution_count": 28,
   "metadata": {
    "collapsed": true,
    "scrolled": true
   },
   "outputs": [],
   "source": [
    "df['last_solar_year_avg']=np.nan\n",
    "df['last_lunar_year_avg']=np.nan\n",
    "for idx, row in df.iterrows():\n",
    "    year, month = row['year']-1, row['month']\n",
    "    l_year, l_month = row['lunar_year']-1, row['lunar_month']\n",
    "    \n",
    "    s = solar_history\n",
    "    s_count = solar_history_count\n",
    "    l = lunar_history\n",
    "    l_count = lunar_history_count\n",
    "    \n",
    "    if year in s.loc[month].index:\n",
    "        df.loc[idx, 'last_solar_year_avg']= (s.loc[month].loc[year]/s_count.loc[month].loc[year])[0]\n",
    "    if l_year in l.loc[l_month].index:\n",
    "        df.loc[idx, 'last_lunar_year_avg']= (l.loc[l_month].loc[l_year]/l_count.loc[l_month].loc[l_year])[0]  "
   ]
  },
  {
   "cell_type": "code",
   "execution_count": 29,
   "metadata": {},
   "outputs": [
    {
     "data": {
      "text/html": [
       "<div>\n",
       "<style>\n",
       "    .dataframe thead tr:only-child th {\n",
       "        text-align: right;\n",
       "    }\n",
       "\n",
       "    .dataframe thead th {\n",
       "        text-align: left;\n",
       "    }\n",
       "\n",
       "    .dataframe tbody tr th {\n",
       "        vertical-align: top;\n",
       "    }\n",
       "</style>\n",
       "<table border=\"1\" class=\"dataframe\">\n",
       "  <thead>\n",
       "    <tr style=\"text-align: right;\">\n",
       "      <th></th>\n",
       "      <th>cnt</th>\n",
       "      <th>date</th>\n",
       "      <th>day_of_week</th>\n",
       "      <th>gap</th>\n",
       "      <th>virtual_date</th>\n",
       "      <th>h_distance</th>\n",
       "      <th>h_length</th>\n",
       "      <th>h_month</th>\n",
       "      <th>h_type</th>\n",
       "      <th>weekend</th>\n",
       "      <th>...</th>\n",
       "      <th>year</th>\n",
       "      <th>week</th>\n",
       "      <th>day</th>\n",
       "      <th>xun</th>\n",
       "      <th>yesterday_hld</th>\n",
       "      <th>lunar_month</th>\n",
       "      <th>lunar_day</th>\n",
       "      <th>lunar_year</th>\n",
       "      <th>last_solar_year_avg</th>\n",
       "      <th>last_lunar_year_avg</th>\n",
       "    </tr>\n",
       "  </thead>\n",
       "  <tbody>\n",
       "    <tr>\n",
       "      <th>0</th>\n",
       "      <td>68.0</td>\n",
       "      <td>1</td>\n",
       "      <td>3</td>\n",
       "      <td>0</td>\n",
       "      <td>2013-01-02</td>\n",
       "      <td>40</td>\n",
       "      <td>6</td>\n",
       "      <td>2</td>\n",
       "      <td>1.0</td>\n",
       "      <td>0</td>\n",
       "      <td>...</td>\n",
       "      <td>2013</td>\n",
       "      <td>1</td>\n",
       "      <td>2</td>\n",
       "      <td>0</td>\n",
       "      <td>0</td>\n",
       "      <td>11</td>\n",
       "      <td>21</td>\n",
       "      <td>2012</td>\n",
       "      <td>NaN</td>\n",
       "      <td>NaN</td>\n",
       "    </tr>\n",
       "    <tr>\n",
       "      <th>1</th>\n",
       "      <td>36.0</td>\n",
       "      <td>2</td>\n",
       "      <td>4</td>\n",
       "      <td>1</td>\n",
       "      <td>2013-01-03</td>\n",
       "      <td>39</td>\n",
       "      <td>6</td>\n",
       "      <td>2</td>\n",
       "      <td>1.0</td>\n",
       "      <td>0</td>\n",
       "      <td>...</td>\n",
       "      <td>2013</td>\n",
       "      <td>1</td>\n",
       "      <td>3</td>\n",
       "      <td>0</td>\n",
       "      <td>0</td>\n",
       "      <td>11</td>\n",
       "      <td>22</td>\n",
       "      <td>2012</td>\n",
       "      <td>NaN</td>\n",
       "      <td>NaN</td>\n",
       "    </tr>\n",
       "    <tr>\n",
       "      <th>2</th>\n",
       "      <td>5565.0</td>\n",
       "      <td>3</td>\n",
       "      <td>5</td>\n",
       "      <td>1</td>\n",
       "      <td>2013-01-04</td>\n",
       "      <td>38</td>\n",
       "      <td>6</td>\n",
       "      <td>2</td>\n",
       "      <td>1.0</td>\n",
       "      <td>0</td>\n",
       "      <td>...</td>\n",
       "      <td>2013</td>\n",
       "      <td>1</td>\n",
       "      <td>4</td>\n",
       "      <td>0</td>\n",
       "      <td>0</td>\n",
       "      <td>11</td>\n",
       "      <td>23</td>\n",
       "      <td>2012</td>\n",
       "      <td>NaN</td>\n",
       "      <td>NaN</td>\n",
       "    </tr>\n",
       "    <tr>\n",
       "      <th>3</th>\n",
       "      <td>4966.0</td>\n",
       "      <td>4</td>\n",
       "      <td>6</td>\n",
       "      <td>1</td>\n",
       "      <td>2013-01-05</td>\n",
       "      <td>37</td>\n",
       "      <td>6</td>\n",
       "      <td>2</td>\n",
       "      <td>1.0</td>\n",
       "      <td>1</td>\n",
       "      <td>...</td>\n",
       "      <td>2013</td>\n",
       "      <td>1</td>\n",
       "      <td>5</td>\n",
       "      <td>0</td>\n",
       "      <td>0</td>\n",
       "      <td>11</td>\n",
       "      <td>24</td>\n",
       "      <td>2012</td>\n",
       "      <td>NaN</td>\n",
       "      <td>NaN</td>\n",
       "    </tr>\n",
       "    <tr>\n",
       "      <th>4</th>\n",
       "      <td>3346.0</td>\n",
       "      <td>5</td>\n",
       "      <td>7</td>\n",
       "      <td>1</td>\n",
       "      <td>2013-01-06</td>\n",
       "      <td>36</td>\n",
       "      <td>6</td>\n",
       "      <td>2</td>\n",
       "      <td>1.0</td>\n",
       "      <td>1</td>\n",
       "      <td>...</td>\n",
       "      <td>2013</td>\n",
       "      <td>1</td>\n",
       "      <td>6</td>\n",
       "      <td>0</td>\n",
       "      <td>0</td>\n",
       "      <td>11</td>\n",
       "      <td>25</td>\n",
       "      <td>2012</td>\n",
       "      <td>NaN</td>\n",
       "      <td>NaN</td>\n",
       "    </tr>\n",
       "  </tbody>\n",
       "</table>\n",
       "<p>5 rows × 21 columns</p>\n",
       "</div>"
      ],
      "text/plain": [
       "      cnt  date  day_of_week  gap virtual_date  h_distance  h_length  h_month  \\\n",
       "0    68.0     1            3    0   2013-01-02          40         6        2   \n",
       "1    36.0     2            4    1   2013-01-03          39         6        2   \n",
       "2  5565.0     3            5    1   2013-01-04          38         6        2   \n",
       "3  4966.0     4            6    1   2013-01-05          37         6        2   \n",
       "4  3346.0     5            7    1   2013-01-06          36         6        2   \n",
       "\n",
       "   h_type  weekend         ...           year  week  day  xun  yesterday_hld  \\\n",
       "0     1.0        0         ...           2013     1    2    0              0   \n",
       "1     1.0        0         ...           2013     1    3    0              0   \n",
       "2     1.0        0         ...           2013     1    4    0              0   \n",
       "3     1.0        1         ...           2013     1    5    0              0   \n",
       "4     1.0        1         ...           2013     1    6    0              0   \n",
       "\n",
       "   lunar_month  lunar_day  lunar_year  last_solar_year_avg  \\\n",
       "0           11         21        2012                  NaN   \n",
       "1           11         22        2012                  NaN   \n",
       "2           11         23        2012                  NaN   \n",
       "3           11         24        2012                  NaN   \n",
       "4           11         25        2012                  NaN   \n",
       "\n",
       "   last_lunar_year_avg  \n",
       "0                  NaN  \n",
       "1                  NaN  \n",
       "2                  NaN  \n",
       "3                  NaN  \n",
       "4                  NaN  \n",
       "\n",
       "[5 rows x 21 columns]"
      ]
     },
     "execution_count": 29,
     "metadata": {},
     "output_type": "execute_result"
    }
   ],
   "source": [
    "df.head()"
   ]
  },
  {
   "cell_type": "code",
   "execution_count": 30,
   "metadata": {},
   "outputs": [
    {
     "data": {
      "text/plain": [
       "(1579, 21)"
      ]
     },
     "execution_count": 30,
     "metadata": {},
     "output_type": "execute_result"
    }
   ],
   "source": [
    "df.shape"
   ]
  },
  {
   "cell_type": "markdown",
   "metadata": {},
   "source": [
    "## 获得假期"
   ]
  },
  {
   "cell_type": "code",
   "execution_count": 32,
   "metadata": {
    "collapsed": true
   },
   "outputs": [],
   "source": [
    "import json  \n",
    "import requests  \n",
    "date = \"20130102\"  \n",
    "server_url = \"http://www.easybots.cn/api/holiday.php?d=\"  \n",
    "server_url = \"http://tool.bitefu.net/jiari/?d=\"\n",
    "\n",
    "holiday = {'date':[],\n",
    "          'hld':[]}\n",
    "\n",
    "for d in df['virtual_date']:\n",
    "    date=(d.date().strftime('%Y%m%d'))\n",
    "    r = requests.get(server_url+date)  \n",
    "    vop_data= r.text\n",
    "    holiday['date'].append(d)\n",
    "    if vop_data=='0':\n",
    "        holiday['hld'].append(0)\n",
    "    else:\n",
    "        holiday['hld'].append(1)"
   ]
  },
  {
   "cell_type": "code",
   "execution_count": 33,
   "metadata": {
    "collapsed": true
   },
   "outputs": [],
   "source": [
    "holiday_df = pd.DataFrame(holiday)"
   ]
  },
  {
   "cell_type": "code",
   "execution_count": 35,
   "metadata": {
    "collapsed": true
   },
   "outputs": [],
   "source": [
    "holiday_df = pd.read_csv('holiday.csv')\n",
    "# holiday_df = holiday_df.rename(index=str, columns={ \"date\":\"virtual_date\", \"hld\": \"hld\"})\n",
    "holiday_df['virtual_date'] = pd.to_datetime(holiday_df['virtual_date'])"
   ]
  },
  {
   "cell_type": "code",
   "execution_count": 36,
   "metadata": {},
   "outputs": [
    {
     "data": {
      "text/html": [
       "<div>\n",
       "<style>\n",
       "    .dataframe thead tr:only-child th {\n",
       "        text-align: right;\n",
       "    }\n",
       "\n",
       "    .dataframe thead th {\n",
       "        text-align: left;\n",
       "    }\n",
       "\n",
       "    .dataframe tbody tr th {\n",
       "        vertical-align: top;\n",
       "    }\n",
       "</style>\n",
       "<table border=\"1\" class=\"dataframe\">\n",
       "  <thead>\n",
       "    <tr style=\"text-align: right;\">\n",
       "      <th></th>\n",
       "      <th>virtual_date</th>\n",
       "      <th>hld</th>\n",
       "    </tr>\n",
       "  </thead>\n",
       "  <tbody>\n",
       "    <tr>\n",
       "      <th>1569</th>\n",
       "      <td>2017-11-19</td>\n",
       "      <td>1</td>\n",
       "    </tr>\n",
       "    <tr>\n",
       "      <th>1570</th>\n",
       "      <td>2017-11-20</td>\n",
       "      <td>0</td>\n",
       "    </tr>\n",
       "    <tr>\n",
       "      <th>1571</th>\n",
       "      <td>2017-11-21</td>\n",
       "      <td>0</td>\n",
       "    </tr>\n",
       "    <tr>\n",
       "      <th>1572</th>\n",
       "      <td>2017-11-22</td>\n",
       "      <td>0</td>\n",
       "    </tr>\n",
       "    <tr>\n",
       "      <th>1573</th>\n",
       "      <td>2017-11-23</td>\n",
       "      <td>0</td>\n",
       "    </tr>\n",
       "    <tr>\n",
       "      <th>1574</th>\n",
       "      <td>2017-11-24</td>\n",
       "      <td>0</td>\n",
       "    </tr>\n",
       "    <tr>\n",
       "      <th>1575</th>\n",
       "      <td>2017-11-25</td>\n",
       "      <td>1</td>\n",
       "    </tr>\n",
       "    <tr>\n",
       "      <th>1576</th>\n",
       "      <td>2017-11-26</td>\n",
       "      <td>1</td>\n",
       "    </tr>\n",
       "    <tr>\n",
       "      <th>1577</th>\n",
       "      <td>2017-11-27</td>\n",
       "      <td>0</td>\n",
       "    </tr>\n",
       "    <tr>\n",
       "      <th>1578</th>\n",
       "      <td>2017-11-28</td>\n",
       "      <td>0</td>\n",
       "    </tr>\n",
       "  </tbody>\n",
       "</table>\n",
       "</div>"
      ],
      "text/plain": [
       "     virtual_date  hld\n",
       "1569   2017-11-19    1\n",
       "1570   2017-11-20    0\n",
       "1571   2017-11-21    0\n",
       "1572   2017-11-22    0\n",
       "1573   2017-11-23    0\n",
       "1574   2017-11-24    0\n",
       "1575   2017-11-25    1\n",
       "1576   2017-11-26    1\n",
       "1577   2017-11-27    0\n",
       "1578   2017-11-28    0"
      ]
     },
     "execution_count": 36,
     "metadata": {},
     "output_type": "execute_result"
    }
   ],
   "source": [
    "holiday_df.tail(10)"
   ]
  },
  {
   "cell_type": "code",
   "execution_count": 37,
   "metadata": {
    "collapsed": true
   },
   "outputs": [],
   "source": [
    "holiday_df.to_csv('holiday.csv',index=False)"
   ]
  },
  {
   "cell_type": "code",
   "execution_count": 38,
   "metadata": {
    "collapsed": true
   },
   "outputs": [],
   "source": [
    "df = df.merge(holiday_df, on=['virtual_date'])"
   ]
  },
  {
   "cell_type": "markdown",
   "metadata": {},
   "source": [
    "## 建立 function"
   ]
  },
  {
   "cell_type": "code",
   "execution_count": 39,
   "metadata": {
    "collapsed": true
   },
   "outputs": [],
   "source": [
    "def concat(L):\n",
    "    result = None\n",
    "    for l in L:\n",
    "        if result is None:\n",
    "            result = l\n",
    "        else:\n",
    "            try:\n",
    "                result[l.columns.tolist()] = l\n",
    "            except:\n",
    "                print(l.head())\n",
    "    return result"
   ]
  },
  {
   "cell_type": "code",
   "execution_count": 40,
   "metadata": {
    "collapsed": true
   },
   "outputs": [],
   "source": [
    "def left_merge(data1,data2,on):\n",
    "    if type(on) != list:\n",
    "        on = [on]\n",
    "    if (set(on) & set(data2.columns)) != set(on):  \n",
    "        data2_temp = data2.reset_index()\n",
    "    else:\n",
    "        data2_temp = data2.copy()\n",
    "    columns = [f for f in data2.columns if f not in on]\n",
    "    result = data1.merge(data2_temp,on=on,how='left')\n",
    "    result = result[columns]                      \n",
    "    return result"
   ]
  },
  {
   "cell_type": "code",
   "execution_count": 41,
   "metadata": {
    "collapsed": true
   },
   "outputs": [],
   "source": [
    "def diff_of_days(day1, day2):\n",
    "    days = (parse(day1) - parse(day2)).days \n",
    "    return days               #.days 两个date之间相差了几天（int）"
   ]
  },
  {
   "cell_type": "code",
   "execution_count": 42,
   "metadata": {
    "collapsed": true
   },
   "outputs": [],
   "source": [
    "def date_add_days(start_date, days):\n",
    "    end_date =  start_date + DateOffset(days = days)\n",
    "#    end_date = end_date.strftime('%Y-%m-%d')\n",
    "    return end_date                                     #取得最终日期"
   ]
  },
  {
   "cell_type": "code",
   "execution_count": 43,
   "metadata": {
    "collapsed": true
   },
   "outputs": [],
   "source": [
    "def get_label(end_date,n_day):\n",
    "    start_date = date_add_days(end_date, -n_day)  #其实是 start date\n",
    "    label = df[(df['virtual_date'] < end_date) & (df['virtual_date'] >= start_date)].copy()  #复制在EndDate和LabelEndDate之间的data\n",
    "    label['start_date'] = start_date\n",
    "    label['diff_of_day'] = label['virtual_date'].apply(lambda x: diff_of_days(str(x),str(start_date)))\n",
    "    label['month'] = label['virtual_date'].dt.month.astype(int) \n",
    "    label['year'] = label['virtual_date'].dt.year.astype(int)\n",
    "    label['diff_days'] = label['virtual_date'].apply(lambda x: (x-start_date).days)\n",
    "#     for i in [3,2,1,-1]:\n",
    "#         date_info_temp = df.copy()\n",
    "#         date_info_temp['virtual_date'] = date_info_temp['virtual_date'].apply(lambda x: date_add_days(str(x),i)) #加上几天，计算出节前和节后日\n",
    "#         label = label.merge(date_info_temp, on=['virtual_date'],how='left') #取得EndDate和LabelEndDate之间的data和 merge 上的节前和节后日\n",
    "    label = label.reset_index(drop=True)\n",
    "    return label"
   ]
  },
  {
   "cell_type": "code",
   "execution_count": 44,
   "metadata": {
    "collapsed": true
   },
   "outputs": [],
   "source": [
    "def quantity_feature(label, end_date, n_day):\n",
    "    # end_date 往前n_day的统计信息\n",
    "    start_date = date_add_days(end_date, -n_day)    #key[0]是 end date\n",
    "    data_temp = df[(df['virtual_date'] >= start_date) & (df['virtual_date'] < end_date)]\n",
    "    result = data_temp.cnt.agg({'mean{}'.format(n_day):'mean',\n",
    "                                                                'median{}'.format(n_day): 'median',\n",
    "                                                                'min{}'.format(n_day): 'min',\n",
    "                                                                'max{}'.format(n_day): 'max',\n",
    "                                                                'std{}'.format(n_day): 'std',\n",
    "                                                                'count{}'.format(n_day): 'count',\n",
    "                                                                'skew{}'.format(n_day): 'skew'})\n",
    "    result = left_merge(label, result).fillna(0)\n",
    "    return result"
   ]
  },
  {
   "cell_type": "code",
   "execution_count": 45,
   "metadata": {
    "collapsed": true
   },
   "outputs": [],
   "source": [
    "def quantity_dow_feature(label, end_date, n_day):\n",
    "    # end_date 往前n_day的统计信息\n",
    "    start_date = date_add_days(end_date, -n_day)    #key[0]是 end date\n",
    "    data_temp = df[(df['virtual_date'] >= start_date) & (df['virtual_date'] < end_date)]\n",
    "    result = data_temp.groupby(['day_of_week']).cnt.agg({'mean_dow{}'.format(n_day):'mean',\n",
    "                                                                'median_dow{}'.format(n_day): 'median',\n",
    "                                                                'min_dow{}'.format(n_day): 'min',\n",
    "                                                                'max_dow{}'.format(n_day): 'max',\n",
    "                                                                'std_dow{}'.format(n_day): 'std',\n",
    "                                                                'count_dow{}'.format(n_day): 'count',\n",
    "                                                                'skew_dow{}'.format(n_day): 'skew'})\n",
    "    result = left_merge(label, result, on=['day_of_week']).fillna(0)\n",
    "    return result"
   ]
  },
  {
   "cell_type": "code",
   "execution_count": 46,
   "metadata": {
    "collapsed": true
   },
   "outputs": [],
   "source": [
    "#end_date, n_day = date_add_days(start_date, 0), 30\n",
    "#key = date_add_days(start_date, 0),n_day\n",
    "#start_date = date_add_days(key[0], -n_day)\n",
    "#data_temp = df[(df['virtual_date'] >= start_date) & (df['virtual_date'] < key[0])]"
   ]
  },
  {
   "cell_type": "code",
   "execution_count": 47,
   "metadata": {
    "collapsed": true
   },
   "outputs": [],
   "source": [
    "#data_temp.head()"
   ]
  },
  {
   "cell_type": "code",
   "execution_count": 48,
   "metadata": {
    "collapsed": true
   },
   "outputs": [],
   "source": [
    "def diff_feat(label, end_date, n_day):\n",
    "    start_date = date_add_days(end_date, -n_day)\n",
    "    data_temp = df[(df['virtual_date'] >= start_date) & (df['virtual_date'] < end_date)].copy()\n",
    "    result = data_temp.set_index(['virtual_date','day_of_week'])['cnt'].unstack()\n",
    "    result = result.diff(axis=1).iloc[:,1:]  \n",
    "    c = result.columns\n",
    "    result['diff_mean'] = np.abs(result[c]).mean(axis=1)\n",
    "    result['diff_std'] = result[c].std(axis=1)\n",
    "    result['diff_max'] = result[c].max(axis=1)\n",
    "    result['sdiff_min'] = result[c].min(axis=1)\n",
    "    result = left_merge(label, result[['diff_mean', 'diff_std', 'diff_max', 'diff_min']],on=['virtual_date','day_of_week']).fillna(0)\n",
    "    return result"
   ]
  },
  {
   "cell_type": "code",
   "execution_count": 49,
   "metadata": {
    "collapsed": true
   },
   "outputs": [],
   "source": [
    "def ratio_feature(data):\n",
    "#     data['mean7_14'] = data['mean7']/(data['mean14']+0.01)\n",
    "#     data['mean14_30'] = data['mean14']/(data['mean30']+0.01)\n",
    "#     data['mean30_60'] = data['mean30']/(data['mean60']+0.01)\n",
    "#     data['mean30_90'] = data['mean30']/(data['mean90']+0.01)\n",
    "#     data['mean90_180'] = data['mean90']/(data['mean180']+0.01)\n",
    "    data['mean180_360'] = data['mean_dow180']/(data['mean_dow360']+0.01)\n",
    "    data['mean360_720'] = data['mean_dow360']/(data['mean_dow720']+0.01)\n",
    "    \n",
    "    data['max180_360'] = data['max_dow180']/data['max_dow360']\n",
    "    data['max360_720'] = data['max_dow360']/data['max_dow720']\n",
    "    \n",
    "#    data['median180_360'] = data['median180']/data['median360']\n",
    "#    data['median360_720'] = data['median360']/data['median720']\n",
    "#     data['mean120_150'] = data['mean120']/(data['mean150']+0.01)\n",
    "#     data['mean150_180'] = data['mean150']/(data['mean180']+0.01)\n",
    "#    data['mean180_360'] = data['mean180']/(data['mean360']+0.01)\n",
    "    return data"
   ]
  },
  {
   "cell_type": "code",
   "execution_count": 50,
   "metadata": {
    "collapsed": true
   },
   "outputs": [],
   "source": [
    "def make_feats(end_date,n_day):\n",
    "    t0 = time.time()\n",
    "    key = end_date,n_day\n",
    "    \n",
    "#     print('add label...')\n",
    "    \n",
    "    label = get_label(end_date, n_day)\n",
    "    # label是end_date为最后一天（不包括），往前n_day\n",
    "    start_date = date_add_days(end_date, -n_day)\n",
    "#     print('make feature...')\n",
    "    result = [label]\n",
    "#     result.append(quantity_feature(label, start_date, 7)) \n",
    "#     result.append(quantity_feature(label, start_date, 14))\n",
    "#    result.append(quantity_feature(label, start_date, 30))\n",
    "#     result.append(quantity_feature(label, start_date, 60))\n",
    "#    result.append(quantity_feature(label, start_date, 90))\n",
    "#     result.append(quantity_feature(label, start_date, 120))\n",
    "#     result.append(quantity_feature(label, start_date, 150))\n",
    "#     result.append(quantity_feature(label, start_date, 180))\n",
    "#     result.append(quantity_feature(label, start_date, 360))\n",
    "#    result.append(quantity_feature(label, start_date, 720))\n",
    "\n",
    "#    result.append(quantity_dow_feature(label, start_date, 30))\n",
    "#     result.append(quantity_feature(label, start_date, 60))\n",
    "    result.append(quantity_dow_feature(label, start_date, 90))\n",
    "#     result.append(quantity_feature(label, start_date, 120))\n",
    "#     result.append(quantity_feature(label, start_date, 150))\n",
    "    result.append(quantity_dow_feature(label, start_date, 180))\n",
    "    result.append(quantity_dow_feature(label, start_date, 360))\n",
    "    result.append(quantity_dow_feature(label, start_date, 720))\n",
    "    result.append(label)\n",
    "\n",
    "#     print('merge...')\n",
    "    result = concat(result)\n",
    "\n",
    "    result = ratio_feature(result)\n",
    "\n",
    "#     print('data shape：{}'.format(result.shape))\n",
    "#     print('spending {}s'.format(time.time() - t0))\n",
    "    return result"
   ]
  },
  {
   "cell_type": "markdown",
   "metadata": {},
   "source": [
    "## validation"
   ]
  },
  {
   "cell_type": "code",
   "execution_count": 95,
   "metadata": {},
   "outputs": [
    {
     "name": "stderr",
     "output_type": "stream",
     "text": [
      "/Users/olivia/anaconda/lib/python3.6/site-packages/ipykernel_launcher.py:11: FutureWarning: using a dict on a Series for aggregation\n",
      "is deprecated and will be removed in a future version\n",
      "  # This is added back by InteractiveShellApp.init_path()\n"
     ]
    }
   ],
   "source": [
    "sliding_length = 100\n",
    "predict_length = 315\n",
    "from datetime import date\n",
    "train_feat = pd.DataFrame()\n",
    "start_date = (date(2017,2,17)+DateOffset(days=-predict_length)).date() # 315天 是 '2017-04-06' ，在往前推30天。\n",
    "\n",
    "for i in range(101):\n",
    "    if date_add_days(start_date, i*(-sliding_length)) < date_add_days(date(2013,1,1),120):\n",
    "        break\n",
    "    train_feat_sub = make_feats(date_add_days(start_date, i*(-sliding_length)), predict_length)  #120天是长度， 60是向后滑的天数，每次滑两个月\n",
    "    train_feat = pd.concat([train_feat,train_feat_sub])"
   ]
  },
  {
   "cell_type": "code",
   "execution_count": 96,
   "metadata": {},
   "outputs": [
    {
     "name": "stderr",
     "output_type": "stream",
     "text": [
      "/Users/olivia/anaconda/lib/python3.6/site-packages/ipykernel_launcher.py:11: FutureWarning: using a dict on a Series for aggregation\n",
      "is deprecated and will be removed in a future version\n",
      "  # This is added back by InteractiveShellApp.init_path()\n"
     ]
    }
   ],
   "source": [
    "valid_feat = make_feats(date(2017,2,16)+DateOffset(days=1),predict_length)"
   ]
  },
  {
   "cell_type": "code",
   "execution_count": 97,
   "metadata": {},
   "outputs": [
    {
     "name": "stdout",
     "output_type": "stream",
     "text": [
      "2013-01-02 00:00:00\n",
      "2016-04-07 00:00:00\n",
      "2016-04-08 00:00:00\n",
      "2017-02-16 00:00:00\n",
      "(2883, 57)\n"
     ]
    }
   ],
   "source": [
    "print(train_feat['virtual_date'].min())\n",
    "print(train_feat['virtual_date'].max())\n",
    "print(valid_feat['virtual_date'].min())\n",
    "print(valid_feat['virtual_date'].max())\n",
    "print(train_feat.shape)"
   ]
  },
  {
   "cell_type": "code",
   "execution_count": 98,
   "metadata": {
    "collapsed": true
   },
   "outputs": [],
   "source": [
    "train_df = train_feat.drop(['virtual_date','start_date','date'], axis=1)\n",
    "validation_df = valid_feat.drop(['virtual_date','start_date','date'], axis=1)\n",
    "train_X = train_df.drop(['cnt','year','lunar_year'], axis=1)\n",
    "train_Y = train_df['cnt']\n",
    "\n",
    "valid_X = validation_df.drop(['cnt','year','lunar_year'], axis=1)\n",
    "valid_Y = validation_df['cnt']\n",
    "\n",
    "valid_date = valid_feat.date"
   ]
  },
  {
   "cell_type": "code",
   "execution_count": 99,
   "metadata": {},
   "outputs": [
    {
     "data": {
      "text/plain": [
       "Index(['day_of_week', 'gap', 'h_distance', 'h_length', 'h_month', 'h_type',\n",
       "       'weekend', 'month', 'week', 'day', 'xun', 'yesterday_hld',\n",
       "       'lunar_month', 'lunar_day', 'last_solar_year_avg',\n",
       "       'last_lunar_year_avg', 'hld', 'diff_of_day', 'diff_days', 'mean_dow90',\n",
       "       'median_dow90', 'min_dow90', 'max_dow90', 'std_dow90', 'count_dow90',\n",
       "       'skew_dow90', 'mean_dow180', 'median_dow180', 'min_dow180',\n",
       "       'max_dow180', 'std_dow180', 'count_dow180', 'skew_dow180',\n",
       "       'mean_dow360', 'median_dow360', 'min_dow360', 'max_dow360',\n",
       "       'std_dow360', 'count_dow360', 'skew_dow360', 'mean_dow720',\n",
       "       'median_dow720', 'min_dow720', 'max_dow720', 'std_dow720',\n",
       "       'count_dow720', 'skew_dow720', 'mean180_360', 'mean360_720',\n",
       "       'max180_360', 'max360_720'],\n",
       "      dtype='object')"
      ]
     },
     "execution_count": 99,
     "metadata": {},
     "output_type": "execute_result"
    }
   ],
   "source": [
    "valid_X.columns"
   ]
  },
  {
   "cell_type": "code",
   "execution_count": 100,
   "metadata": {},
   "outputs": [
    {
     "data": {
      "text/plain": [
       "Index(['day_of_week', 'gap', 'h_distance', 'h_length', 'h_month', 'h_type',\n",
       "       'weekend', 'month', 'week', 'day', 'xun', 'yesterday_hld',\n",
       "       'lunar_month', 'lunar_day', 'last_solar_year_avg',\n",
       "       'last_lunar_year_avg', 'hld', 'diff_of_day', 'diff_days', 'mean_dow90',\n",
       "       'median_dow90', 'min_dow90', 'max_dow90', 'std_dow90', 'count_dow90',\n",
       "       'skew_dow90', 'mean_dow180', 'median_dow180', 'min_dow180',\n",
       "       'max_dow180', 'std_dow180', 'count_dow180', 'skew_dow180',\n",
       "       'mean_dow360', 'median_dow360', 'min_dow360', 'max_dow360',\n",
       "       'std_dow360', 'count_dow360', 'skew_dow360', 'mean_dow720',\n",
       "       'median_dow720', 'min_dow720', 'max_dow720', 'std_dow720',\n",
       "       'count_dow720', 'skew_dow720', 'mean180_360', 'mean360_720',\n",
       "       'max180_360', 'max360_720'],\n",
       "      dtype='object')"
      ]
     },
     "execution_count": 100,
     "metadata": {},
     "output_type": "execute_result"
    }
   ],
   "source": [
    "train_X.columns"
   ]
  },
  {
   "cell_type": "code",
   "execution_count": 101,
   "metadata": {
    "collapsed": true
   },
   "outputs": [],
   "source": [
    "predict = 0\n",
    "bagging_num = 2\n",
    "for i in range(bagging_num):\n",
    "#     model1 = ensemble.ExtraTreesRegressor(n_jobs=-1, n_estimators=2000, max_depth=10, max_features=0.8,\n",
    "#                                            min_samples_split = 5, random_state = i*3)\n",
    "#     model1.fit(train_X.fillna(-1), train_Y)\n",
    "#     predict +=  0.2*model1.predict(valid_X.fillna(-1))\n",
    "    \n",
    "    model1 = LGBMRegressor(learning_rate=0.01, n_estimators=2000, subsample=0.7, num_leaves=30+i*5, \n",
    "                           colsample_bytree=0.3, random_seed = i*3)\n",
    "    model1.fit(train_X.fillna(-1), train_Y)\n",
    "    predict +=  model1.predict(valid_X.fillna(-1))\n",
    "    \n",
    "#     model1 = LGBMRegressor(learning_rate=0.01, n_estimators=1000, subsample=0.6, num_leaves=60+i*5, \n",
    "#                            colsample_bytree=0.5, random_seed = i*3)\n",
    "#     model1.fit(train_X.fillna(-1), np.log10(train_Y))\n",
    "#     predict +=  0.1*np.power(10,model1.predict(valid_X.fillna(-1)))\n",
    "\n",
    "#     model1 = CatBoostRegressor(iterations=1000, learning_rate=0.03, depth=5, l2_leaf_reg=1, loss_function='RMSE', \n",
    "#                            eval_metric='RMSE', logging_level='Silent', random_seed=i*5)\n",
    "#     model1.fit(train_X.fillna(-1), train_Y)\n",
    "#     predict += 0.8*model1.predict(valid_X.fillna(-1))\n",
    "    \n",
    "#     model1 = CatBoostRegressor(iterations=800, learning_rate=0.06, depth=6, l2_leaf_reg=2, loss_function='RMSE', \n",
    "#                            eval_metric='RMSE', logging_level='Silent', random_seed=i*5)\n",
    "#     model1.fit(train_X.fillna(-1), np.log1p(train_Y) ,cat_features=[0])\n",
    "#     predict += 0.1*np.exp(model1.predict(valid_X.fillna(-1)))\n",
    "\n",
    "#     model1 = KNeighborsRegressor(n_jobs=-1, n_neighbors=10)\n",
    "#     model1 = LinearRegression(n_jobs=-1)\n",
    "#     model1.fit(train_X.fillna(-1), train_Y)\n",
    "#     predict += 0.1*model1.predict(valid_X.fillna(-1))\n",
    "predict = predict/bagging_num/1"
   ]
  },
  {
   "cell_type": "code",
   "execution_count": 102,
   "metadata": {
    "collapsed": true
   },
   "outputs": [],
   "source": [
    "predict=np.clip(predict,a_min=0,a_max=None)"
   ]
  },
  {
   "cell_type": "code",
   "execution_count": 121,
   "metadata": {
    "collapsed": true
   },
   "outputs": [],
   "source": [
    "predict_df = pd.DataFrame()\n",
    "predict_df['date'] = valid_date\n",
    "predict_df['y'] = predict\n",
    "# predict_sum = predict_df.groupby(['date']).y.agg('sum')\n"
   ]
  },
  {
   "cell_type": "code",
   "execution_count": 122,
   "metadata": {
    "collapsed": true
   },
   "outputs": [],
   "source": [
    "testy_df = pd.DataFrame()\n",
    "testy_df['date'] = valid_date\n",
    "testy_df['y'] = valid_Y\n",
    "# testy_sum = testy_df.groupby(['date']).y.agg('sum')\n"
   ]
  },
  {
   "cell_type": "code",
   "execution_count": 123,
   "metadata": {},
   "outputs": [
    {
     "name": "stdout",
     "output_type": "stream",
     "text": [
      "590144.8475870454\n"
     ]
    }
   ],
   "source": [
    "error = predict_df['y'] - testy_df['y']\n",
    "metric= np.mean(np.square(error))\n",
    "print(metric)"
   ]
  },
  {
   "cell_type": "code",
   "execution_count": 124,
   "metadata": {},
   "outputs": [
    {
     "data": {
      "text/plain": [
       "<matplotlib.axes._subplots.AxesSubplot at 0x1089ce940>"
      ]
     },
     "execution_count": 124,
     "metadata": {},
     "output_type": "execute_result"
    },
    {
     "data": {
      "image/png": "[encoded data removed]",
      "text/plain": [
       "<matplotlib.figure.Figure at 0x108b496d8>"
      ]
     },
     "metadata": {},
     "output_type": "display_data"
    }
   ],
   "source": [
    "pd.Series(error).hist(bins=30)"
   ]
  },
  {
   "cell_type": "code",
   "execution_count": 125,
   "metadata": {},
   "outputs": [
    {
     "data": {
      "text/plain": [
       "<matplotlib.axes._subplots.AxesSubplot at 0x1a12662a20>"
      ]
     },
     "execution_count": 125,
     "metadata": {},
     "output_type": "execute_result"
    },
    {
     "data": {
      "image/png": "[encoded data removed]",
      "text/plain": [
       "<matplotlib.figure.Figure at 0x1a11486860>"
      ]
     },
     "metadata": {},
     "output_type": "display_data"
    }
   ],
   "source": [
    "pd.Series(model1.feature_importances_, index=valid_X.columns).plot.barh(figsize=(15,15))"
   ]
  },
  {
   "cell_type": "code",
   "execution_count": 126,
   "metadata": {
    "collapsed": true
   },
   "outputs": [],
   "source": [
    "ppp = pd.DataFrame()\n",
    "ppp['date']=valid_feat['virtual_date']\n",
    "ppp['y']=predict_df['y']\n",
    "ppp['true_value']=testy_df['y']\n",
    "ppp['hld']=valid_feat['hld']\n",
    "ppp['dow']=valid_feat['day_of_week']"
   ]
  },
  {
   "cell_type": "code",
   "execution_count": 127,
   "metadata": {},
   "outputs": [
    {
     "data": {
      "text/plain": [
       "<matplotlib.axes._subplots.AxesSubplot at 0x1a12059748>"
      ]
     },
     "execution_count": 127,
     "metadata": {},
     "output_type": "execute_result"
    },
    {
     "data": {
      "image/png": "[encoded data removed]",
      "text/plain": [
       "<matplotlib.figure.Figure at 0x1a13d969b0>"
      ]
     },
     "metadata": {},
     "output_type": "display_data"
    }
   ],
   "source": [
    "# pd.Series(testy_df['y']).plot(figsize=(15,10),x=ppp['date'])\n",
    "# pd.Series(predict_df['y']).plot(figsize=(15,10),x=valid_feat['virtual_date'])\n",
    "ppp.plot(x='date',y=['y','true_value'],figsize=(15,10))"
   ]
  },
  {
   "cell_type": "code",
   "execution_count": 128,
   "metadata": {
    "collapsed": true
   },
   "outputs": [],
   "source": [
    "ppp.to_csv('valid.csv',index=False)"
   ]
  },
  {
   "cell_type": "markdown",
   "metadata": {},
   "source": [
    "## test"
   ]
  },
  {
   "cell_type": "code",
   "execution_count": 129,
   "metadata": {},
   "outputs": [
    {
     "name": "stderr",
     "output_type": "stream",
     "text": [
      "/Users/olivia/anaconda/lib/python3.6/site-packages/ipykernel_launcher.py:11: FutureWarning: using a dict on a Series for aggregation\n",
      "is deprecated and will be removed in a future version\n",
      "  # This is added back by InteractiveShellApp.init_path()\n"
     ]
    }
   ],
   "source": [
    "sliding_length = 100\n",
    "predict_length = 315\n",
    "\n",
    "train_feat = pd.DataFrame()\n",
    "start_date = date(2017,2,17) # 315天 是 '2017-04-06' ，在往前推30天。\n",
    "\n",
    "for i in range(101):\n",
    "    if date_add_days(start_date, i*(-sliding_length)) < date_add_days(date(2013,1,1),120):\n",
    "        break\n",
    "    train_feat_sub = make_feats(date_add_days(start_date, i*(-sliding_length)), predict_length)  #120天是长度， 60是向后滑的天数，每次滑两个月\n",
    "    train_feat = pd.concat([train_feat,train_feat_sub])"
   ]
  },
  {
   "cell_type": "code",
   "execution_count": 130,
   "metadata": {},
   "outputs": [
    {
     "name": "stderr",
     "output_type": "stream",
     "text": [
      "/Users/olivia/anaconda/lib/python3.6/site-packages/ipykernel_launcher.py:11: FutureWarning: using a dict on a Series for aggregation\n",
      "is deprecated and will be removed in a future version\n",
      "  # This is added back by InteractiveShellApp.init_path()\n"
     ]
    }
   ],
   "source": [
    "test_feat = make_feats(df['virtual_date'].max()+DateOffset(days=1),285)"
   ]
  },
  {
   "cell_type": "code",
   "execution_count": 131,
   "metadata": {},
   "outputs": [
    {
     "name": "stdout",
     "output_type": "stream",
     "text": [
      "2013-01-02 00:00:00\n",
      "2017-02-16 00:00:00\n",
      "2017-02-17 00:00:00\n",
      "2017-11-28 00:00:00\n",
      "(3715, 57)\n"
     ]
    }
   ],
   "source": [
    "print(train_feat['virtual_date'].min())\n",
    "print(train_feat['virtual_date'].max())\n",
    "print(test_feat['virtual_date'].min())\n",
    "print(test_feat['virtual_date'].max())\n",
    "print(train_feat.shape)"
   ]
  },
  {
   "cell_type": "code",
   "execution_count": 132,
   "metadata": {
    "collapsed": true
   },
   "outputs": [],
   "source": [
    "train_df = train_feat.drop(['virtual_date','start_date','date'], axis=1)    \n",
    "test_df = test_feat.drop(['virtual_date','start_date','date'], axis=1)\n",
    "train_X = train_df.drop(['cnt','year','lunar_year'], axis=1)\n",
    "train_Y = train_df['cnt']\n",
    "#test_X = df.iloc[train_index:,:].drop(['year','lunar_year','virtual_date','date','cnt'], axis=1) #这样写把 text_X 的空栏位去掉了，但是只剩下15个栏位，无法和 trainX 匹配\n",
    "test_X = test_df.drop(['cnt','year','lunar_year'], axis=1)  # 这里前面数据滚完之后，会有很多 test_X 的栏位空值 影响结果"
   ]
  },
  {
   "cell_type": "code",
   "execution_count": 133,
   "metadata": {
    "collapsed": true
   },
   "outputs": [],
   "source": [
    "train_X[['last_solar_year_avg','last_lunar_year_avg']] = train_X[['last_solar_year_avg','last_lunar_year_avg']].fillna(train_X[['last_solar_year_avg','last_lunar_year_avg']].median())"
   ]
  },
  {
   "cell_type": "code",
   "execution_count": 134,
   "metadata": {},
   "outputs": [
    {
     "data": {
      "text/html": [
       "<div>\n",
       "<style>\n",
       "    .dataframe thead tr:only-child th {\n",
       "        text-align: right;\n",
       "    }\n",
       "\n",
       "    .dataframe thead th {\n",
       "        text-align: left;\n",
       "    }\n",
       "\n",
       "    .dataframe tbody tr th {\n",
       "        vertical-align: top;\n",
       "    }\n",
       "</style>\n",
       "<table border=\"1\" class=\"dataframe\">\n",
       "  <thead>\n",
       "    <tr style=\"text-align: right;\">\n",
       "      <th></th>\n",
       "      <th>cnt</th>\n",
       "      <th>date</th>\n",
       "      <th>day_of_week</th>\n",
       "      <th>gap</th>\n",
       "      <th>virtual_date</th>\n",
       "      <th>h_distance</th>\n",
       "      <th>h_length</th>\n",
       "      <th>h_month</th>\n",
       "      <th>h_type</th>\n",
       "      <th>weekend</th>\n",
       "      <th>...</th>\n",
       "      <th>median_dow720</th>\n",
       "      <th>min_dow720</th>\n",
       "      <th>max_dow720</th>\n",
       "      <th>std_dow720</th>\n",
       "      <th>count_dow720</th>\n",
       "      <th>skew_dow720</th>\n",
       "      <th>mean180_360</th>\n",
       "      <th>mean360_720</th>\n",
       "      <th>max180_360</th>\n",
       "      <th>max360_720</th>\n",
       "    </tr>\n",
       "  </thead>\n",
       "  <tbody>\n",
       "    <tr>\n",
       "      <th>0</th>\n",
       "      <td>2050.0</td>\n",
       "      <td>1033</td>\n",
       "      <td>5</td>\n",
       "      <td>1</td>\n",
       "      <td>2016-04-08</td>\n",
       "      <td>-4</td>\n",
       "      <td>3</td>\n",
       "      <td>4</td>\n",
       "      <td>0.0</td>\n",
       "      <td>0</td>\n",
       "      <td>...</td>\n",
       "      <td>1853.0</td>\n",
       "      <td>12.0</td>\n",
       "      <td>4838.0</td>\n",
       "      <td>828.775368</td>\n",
       "      <td>97.0</td>\n",
       "      <td>0.963215</td>\n",
       "      <td>1.191454</td>\n",
       "      <td>1.019671</td>\n",
       "      <td>1.000000</td>\n",
       "      <td>1.000000</td>\n",
       "    </tr>\n",
       "    <tr>\n",
       "      <th>1</th>\n",
       "      <td>388.0</td>\n",
       "      <td>1034</td>\n",
       "      <td>6</td>\n",
       "      <td>1</td>\n",
       "      <td>2016-04-09</td>\n",
       "      <td>-5</td>\n",
       "      <td>3</td>\n",
       "      <td>4</td>\n",
       "      <td>0.0</td>\n",
       "      <td>1</td>\n",
       "      <td>...</td>\n",
       "      <td>304.5</td>\n",
       "      <td>15.0</td>\n",
       "      <td>2489.0</td>\n",
       "      <td>399.326450</td>\n",
       "      <td>96.0</td>\n",
       "      <td>3.235490</td>\n",
       "      <td>1.133029</td>\n",
       "      <td>1.156740</td>\n",
       "      <td>0.628365</td>\n",
       "      <td>1.000000</td>\n",
       "    </tr>\n",
       "    <tr>\n",
       "      <th>2</th>\n",
       "      <td>2550.0</td>\n",
       "      <td>1035</td>\n",
       "      <td>1</td>\n",
       "      <td>2</td>\n",
       "      <td>2016-04-11</td>\n",
       "      <td>-7</td>\n",
       "      <td>3</td>\n",
       "      <td>4</td>\n",
       "      <td>0.0</td>\n",
       "      <td>0</td>\n",
       "      <td>...</td>\n",
       "      <td>2206.0</td>\n",
       "      <td>13.0</td>\n",
       "      <td>6421.0</td>\n",
       "      <td>1042.051630</td>\n",
       "      <td>96.0</td>\n",
       "      <td>1.437931</td>\n",
       "      <td>1.150198</td>\n",
       "      <td>1.080136</td>\n",
       "      <td>1.000000</td>\n",
       "      <td>1.000000</td>\n",
       "    </tr>\n",
       "    <tr>\n",
       "      <th>3</th>\n",
       "      <td>2899.0</td>\n",
       "      <td>1036</td>\n",
       "      <td>2</td>\n",
       "      <td>1</td>\n",
       "      <td>2016-04-12</td>\n",
       "      <td>-8</td>\n",
       "      <td>3</td>\n",
       "      <td>4</td>\n",
       "      <td>0.0</td>\n",
       "      <td>0</td>\n",
       "      <td>...</td>\n",
       "      <td>2344.0</td>\n",
       "      <td>15.0</td>\n",
       "      <td>7226.0</td>\n",
       "      <td>1099.750166</td>\n",
       "      <td>101.0</td>\n",
       "      <td>1.714018</td>\n",
       "      <td>1.149883</td>\n",
       "      <td>1.073191</td>\n",
       "      <td>1.000000</td>\n",
       "      <td>0.978273</td>\n",
       "    </tr>\n",
       "    <tr>\n",
       "      <th>4</th>\n",
       "      <td>1640.0</td>\n",
       "      <td>1037</td>\n",
       "      <td>3</td>\n",
       "      <td>1</td>\n",
       "      <td>2016-04-13</td>\n",
       "      <td>-9</td>\n",
       "      <td>3</td>\n",
       "      <td>4</td>\n",
       "      <td>0.0</td>\n",
       "      <td>0</td>\n",
       "      <td>...</td>\n",
       "      <td>1964.0</td>\n",
       "      <td>88.0</td>\n",
       "      <td>5017.0</td>\n",
       "      <td>866.427995</td>\n",
       "      <td>101.0</td>\n",
       "      <td>1.193655</td>\n",
       "      <td>1.176380</td>\n",
       "      <td>1.051331</td>\n",
       "      <td>1.000000</td>\n",
       "      <td>1.000000</td>\n",
       "    </tr>\n",
       "  </tbody>\n",
       "</table>\n",
       "<p>5 rows × 57 columns</p>\n",
       "</div>"
      ],
      "text/plain": [
       "      cnt  date  day_of_week  gap virtual_date  h_distance  h_length  h_month  \\\n",
       "0  2050.0  1033            5    1   2016-04-08          -4         3        4   \n",
       "1   388.0  1034            6    1   2016-04-09          -5         3        4   \n",
       "2  2550.0  1035            1    2   2016-04-11          -7         3        4   \n",
       "3  2899.0  1036            2    1   2016-04-12          -8         3        4   \n",
       "4  1640.0  1037            3    1   2016-04-13          -9         3        4   \n",
       "\n",
       "   h_type  weekend     ...      median_dow720  min_dow720  max_dow720  \\\n",
       "0     0.0        0     ...             1853.0        12.0      4838.0   \n",
       "1     0.0        1     ...              304.5        15.0      2489.0   \n",
       "2     0.0        0     ...             2206.0        13.0      6421.0   \n",
       "3     0.0        0     ...             2344.0        15.0      7226.0   \n",
       "4     0.0        0     ...             1964.0        88.0      5017.0   \n",
       "\n",
       "    std_dow720  count_dow720  skew_dow720  mean180_360  mean360_720  \\\n",
       "0   828.775368          97.0     0.963215     1.191454     1.019671   \n",
       "1   399.326450          96.0     3.235490     1.133029     1.156740   \n",
       "2  1042.051630          96.0     1.437931     1.150198     1.080136   \n",
       "3  1099.750166         101.0     1.714018     1.149883     1.073191   \n",
       "4   866.427995         101.0     1.193655     1.176380     1.051331   \n",
       "\n",
       "   max180_360  max360_720  \n",
       "0    1.000000    1.000000  \n",
       "1    0.628365    1.000000  \n",
       "2    1.000000    1.000000  \n",
       "3    1.000000    0.978273  \n",
       "4    1.000000    1.000000  \n",
       "\n",
       "[5 rows x 57 columns]"
      ]
     },
     "execution_count": 134,
     "metadata": {},
     "output_type": "execute_result"
    }
   ],
   "source": [
    "train_feat.head()"
   ]
  },
  {
   "cell_type": "code",
   "execution_count": 135,
   "metadata": {
    "collapsed": true,
    "scrolled": true
   },
   "outputs": [],
   "source": [
    "predict = 0\n",
    "bagging_num = 2\n",
    "for i in range(bagging_num):\n",
    "#     model1 = ensemble.ExtraTreesRegressor(n_jobs=-1, n_estimators=2000, max_depth=10, max_features=0.8,\n",
    "#                                            min_samples_split = 5, random_state = i*3)\n",
    "#     model1.fit(train_X.fillna(-1), train_Y)\n",
    "#     predict +=  0.4*model1.predict(test_X.fillna(-1))\n",
    "    \n",
    "    model1 = LGBMRegressor(learning_rate=0.01, n_estimators=2000, subsample=0.7, num_leaves=30+i*5, \n",
    "                           colsample_bytree=0.3, random_seed = i*3)\n",
    "    model1.fit(train_X.fillna(-1), train_Y)\n",
    "    predict +=  model1.predict(test_X.fillna(-1))\n",
    "    \n",
    "#     model1 = LGBMRegressor(learning_rate=0.01, n_estimators=1000, subsample=0.6, num_leaves=60+i*5, \n",
    "#                            colsample_bytree=0.5, random_seed = i*3)\n",
    "#     model1.fit(train_X.fillna(-1), np.log10(train_Y))\n",
    "#     predict +=  0.1*np.power(10,model1.predict(valid_X.fillna(-1)))\n",
    "\n",
    "#     model1 = CatBoostRegressor(iterations=1000, learning_rate=0.01, depth=5, l2_leaf_reg=1, loss_function='RMSE', \n",
    "#                            eval_metric='RMSE', logging_level='Silent', random_seed=i*5)\n",
    "#     model1.fit(train_X.fillna(-1), train_Y)\n",
    "#     predict += model1.predict(test_X.fillna(-1))\n",
    "\n",
    "#     model1 = KNeighborsRegressor(n_jobs=-1, n_neighbors=20)\n",
    "#     model1 = LinearRegression(n_jobs=-1)\n",
    "#     model1.fit(train_X.fillna(-1), train_Y)\n",
    "#     predict += 0.2*model1.predict(test_X.fillna(-1))\n",
    "predict = predict/bagging_num/1\n"
   ]
  },
  {
   "cell_type": "code",
   "execution_count": 139,
   "metadata": {
    "collapsed": true
   },
   "outputs": [],
   "source": [
    "predict_df = pd.DataFrame()\n",
    "predict_df['date'] = test_feat['date']\n",
    "predict_df['y'] = predict\n",
    "# predict_sum = predict_df.groupby(['date']).y.agg('sum')"
   ]
  },
  {
   "cell_type": "code",
   "execution_count": 140,
   "metadata": {},
   "outputs": [
    {
     "data": {
      "text/plain": [
       "<matplotlib.axes._subplots.AxesSubplot at 0x1a130c2c18>"
      ]
     },
     "execution_count": 140,
     "metadata": {},
     "output_type": "execute_result"
    },
    {
     "data": {
      "image/png": "[encoded data removed]",
      "text/plain": [
       "<matplotlib.figure.Figure at 0x1a12acca20>"
      ]
     },
     "metadata": {},
     "output_type": "display_data"
    }
   ],
   "source": [
    "pd.Series(predict).hist()"
   ]
  },
  {
   "cell_type": "code",
   "execution_count": 141,
   "metadata": {
    "collapsed": true
   },
   "outputs": [],
   "source": [
    "ans = pd.Series(predict.astype(np.int), index=test_index)"
   ]
  },
  {
   "cell_type": "code",
   "execution_count": 142,
   "metadata": {},
   "outputs": [
    {
     "data": {
      "text/plain": [
       "date\n",
       "1308    2148\n",
       "1309     501\n",
       "1310     185\n",
       "1311    2597\n",
       "1312    2613\n",
       "dtype: int64"
      ]
     },
     "execution_count": 142,
     "metadata": {},
     "output_type": "execute_result"
    }
   ],
   "source": [
    "ans.sort_index(inplace=True)\n",
    "ans.head()"
   ]
  },
  {
   "cell_type": "code",
   "execution_count": 143,
   "metadata": {
    "collapsed": true
   },
   "outputs": [],
   "source": [
    "ans.to_csv('predict_0226.txt',header=None,sep='\\t')"
   ]
  },
  {
   "cell_type": "code",
   "execution_count": 82,
   "metadata": {},
   "outputs": [
    {
     "data": {
      "text/plain": [
       "(272,)"
      ]
     },
     "execution_count": 82,
     "metadata": {},
     "output_type": "execute_result"
    }
   ],
   "source": [
    "ans.shape"
   ]
  },
  {
   "cell_type": "code",
   "execution_count": 83,
   "metadata": {},
   "outputs": [
    {
     "ename": "FileNotFoundError",
     "evalue": "File b'answer_A_20180226.txt' does not exist",
     "output_type": "error",
     "traceback": [
      "\u001b[0;31m---------------------------------------------------------------------------\u001b[0m",
      "\u001b[0;31mFileNotFoundError\u001b[0m                         Traceback (most recent call last)",
      "\u001b[0;32m<ipython-input-83-4a05936fa63f>\u001b[0m in \u001b[0;36m<module>\u001b[0;34m()\u001b[0m\n\u001b[0;32m----> 1\u001b[0;31m \u001b[0mtrue_value\u001b[0m \u001b[0;34m=\u001b[0m \u001b[0mpd\u001b[0m\u001b[0;34m.\u001b[0m\u001b[0mread_table\u001b[0m\u001b[0;34m(\u001b[0m\u001b[0;34m'answer_A_20180226.txt'\u001b[0m\u001b[0;34m,\u001b[0m\u001b[0mencoding\u001b[0m\u001b[0;34m=\u001b[0m\u001b[0;34m'gbk'\u001b[0m\u001b[0;34m,\u001b[0m\u001b[0msep\u001b[0m\u001b[0;34m=\u001b[0m\u001b[0;34m'\\t'\u001b[0m\u001b[0;34m,\u001b[0m\u001b[0mheader\u001b[0m\u001b[0;34m=\u001b[0m\u001b[0;32mNone\u001b[0m\u001b[0;34m)\u001b[0m\u001b[0;34m\u001b[0m\u001b[0m\n\u001b[0m",
      "\u001b[0;32m~/anaconda/lib/python3.6/site-packages/pandas/io/parsers.py\u001b[0m in \u001b[0;36mparser_f\u001b[0;34m(filepath_or_buffer, sep, delimiter, header, names, index_col, usecols, squeeze, prefix, mangle_dupe_cols, dtype, engine, converters, true_values, false_values, skipinitialspace, skiprows, nrows, na_values, keep_default_na, na_filter, verbose, skip_blank_lines, parse_dates, infer_datetime_format, keep_date_col, date_parser, dayfirst, iterator, chunksize, compression, thousands, decimal, lineterminator, quotechar, quoting, escapechar, comment, encoding, dialect, tupleize_cols, error_bad_lines, warn_bad_lines, skipfooter, skip_footer, doublequote, delim_whitespace, as_recarray, compact_ints, use_unsigned, low_memory, buffer_lines, memory_map, float_precision)\u001b[0m\n\u001b[1;32m    653\u001b[0m                     skip_blank_lines=skip_blank_lines)\n\u001b[1;32m    654\u001b[0m \u001b[0;34m\u001b[0m\u001b[0m\n\u001b[0;32m--> 655\u001b[0;31m         \u001b[0;32mreturn\u001b[0m \u001b[0m_read\u001b[0m\u001b[0;34m(\u001b[0m\u001b[0mfilepath_or_buffer\u001b[0m\u001b[0;34m,\u001b[0m \u001b[0mkwds\u001b[0m\u001b[0;34m)\u001b[0m\u001b[0;34m\u001b[0m\u001b[0m\n\u001b[0m\u001b[1;32m    656\u001b[0m \u001b[0;34m\u001b[0m\u001b[0m\n\u001b[1;32m    657\u001b[0m     \u001b[0mparser_f\u001b[0m\u001b[0;34m.\u001b[0m\u001b[0m__name__\u001b[0m \u001b[0;34m=\u001b[0m \u001b[0mname\u001b[0m\u001b[0;34m\u001b[0m\u001b[0m\n",
      "\u001b[0;32m~/anaconda/lib/python3.6/site-packages/pandas/io/parsers.py\u001b[0m in \u001b[0;36m_read\u001b[0;34m(filepath_or_buffer, kwds)\u001b[0m\n\u001b[1;32m    403\u001b[0m \u001b[0;34m\u001b[0m\u001b[0m\n\u001b[1;32m    404\u001b[0m     \u001b[0;31m# Create the parser.\u001b[0m\u001b[0;34m\u001b[0m\u001b[0;34m\u001b[0m\u001b[0m\n\u001b[0;32m--> 405\u001b[0;31m     \u001b[0mparser\u001b[0m \u001b[0;34m=\u001b[0m \u001b[0mTextFileReader\u001b[0m\u001b[0;34m(\u001b[0m\u001b[0mfilepath_or_buffer\u001b[0m\u001b[0;34m,\u001b[0m \u001b[0;34m**\u001b[0m\u001b[0mkwds\u001b[0m\u001b[0;34m)\u001b[0m\u001b[0;34m\u001b[0m\u001b[0m\n\u001b[0m\u001b[1;32m    406\u001b[0m \u001b[0;34m\u001b[0m\u001b[0m\n\u001b[1;32m    407\u001b[0m     \u001b[0;32mif\u001b[0m \u001b[0mchunksize\u001b[0m \u001b[0;32mor\u001b[0m \u001b[0miterator\u001b[0m\u001b[0;34m:\u001b[0m\u001b[0;34m\u001b[0m\u001b[0m\n",
      "\u001b[0;32m~/anaconda/lib/python3.6/site-packages/pandas/io/parsers.py\u001b[0m in \u001b[0;36m__init__\u001b[0;34m(self, f, engine, **kwds)\u001b[0m\n\u001b[1;32m    762\u001b[0m             \u001b[0mself\u001b[0m\u001b[0;34m.\u001b[0m\u001b[0moptions\u001b[0m\u001b[0;34m[\u001b[0m\u001b[0;34m'has_index_names'\u001b[0m\u001b[0;34m]\u001b[0m \u001b[0;34m=\u001b[0m \u001b[0mkwds\u001b[0m\u001b[0;34m[\u001b[0m\u001b[0;34m'has_index_names'\u001b[0m\u001b[0;34m]\u001b[0m\u001b[0;34m\u001b[0m\u001b[0m\n\u001b[1;32m    763\u001b[0m \u001b[0;34m\u001b[0m\u001b[0m\n\u001b[0;32m--> 764\u001b[0;31m         \u001b[0mself\u001b[0m\u001b[0;34m.\u001b[0m\u001b[0m_make_engine\u001b[0m\u001b[0;34m(\u001b[0m\u001b[0mself\u001b[0m\u001b[0;34m.\u001b[0m\u001b[0mengine\u001b[0m\u001b[0;34m)\u001b[0m\u001b[0;34m\u001b[0m\u001b[0m\n\u001b[0m\u001b[1;32m    765\u001b[0m \u001b[0;34m\u001b[0m\u001b[0m\n\u001b[1;32m    766\u001b[0m     \u001b[0;32mdef\u001b[0m \u001b[0mclose\u001b[0m\u001b[0;34m(\u001b[0m\u001b[0mself\u001b[0m\u001b[0;34m)\u001b[0m\u001b[0;34m:\u001b[0m\u001b[0;34m\u001b[0m\u001b[0m\n",
      "\u001b[0;32m~/anaconda/lib/python3.6/site-packages/pandas/io/parsers.py\u001b[0m in \u001b[0;36m_make_engine\u001b[0;34m(self, engine)\u001b[0m\n\u001b[1;32m    983\u001b[0m     \u001b[0;32mdef\u001b[0m \u001b[0m_make_engine\u001b[0m\u001b[0;34m(\u001b[0m\u001b[0mself\u001b[0m\u001b[0;34m,\u001b[0m \u001b[0mengine\u001b[0m\u001b[0;34m=\u001b[0m\u001b[0;34m'c'\u001b[0m\u001b[0;34m)\u001b[0m\u001b[0;34m:\u001b[0m\u001b[0;34m\u001b[0m\u001b[0m\n\u001b[1;32m    984\u001b[0m         \u001b[0;32mif\u001b[0m \u001b[0mengine\u001b[0m \u001b[0;34m==\u001b[0m \u001b[0;34m'c'\u001b[0m\u001b[0;34m:\u001b[0m\u001b[0;34m\u001b[0m\u001b[0m\n\u001b[0;32m--> 985\u001b[0;31m             \u001b[0mself\u001b[0m\u001b[0;34m.\u001b[0m\u001b[0m_engine\u001b[0m \u001b[0;34m=\u001b[0m \u001b[0mCParserWrapper\u001b[0m\u001b[0;34m(\u001b[0m\u001b[0mself\u001b[0m\u001b[0;34m.\u001b[0m\u001b[0mf\u001b[0m\u001b[0;34m,\u001b[0m \u001b[0;34m**\u001b[0m\u001b[0mself\u001b[0m\u001b[0;34m.\u001b[0m\u001b[0moptions\u001b[0m\u001b[0;34m)\u001b[0m\u001b[0;34m\u001b[0m\u001b[0m\n\u001b[0m\u001b[1;32m    986\u001b[0m         \u001b[0;32melse\u001b[0m\u001b[0;34m:\u001b[0m\u001b[0;34m\u001b[0m\u001b[0m\n\u001b[1;32m    987\u001b[0m             \u001b[0;32mif\u001b[0m \u001b[0mengine\u001b[0m \u001b[0;34m==\u001b[0m \u001b[0;34m'python'\u001b[0m\u001b[0;34m:\u001b[0m\u001b[0;34m\u001b[0m\u001b[0m\n",
      "\u001b[0;32m~/anaconda/lib/python3.6/site-packages/pandas/io/parsers.py\u001b[0m in \u001b[0;36m__init__\u001b[0;34m(self, src, **kwds)\u001b[0m\n\u001b[1;32m   1603\u001b[0m         \u001b[0mkwds\u001b[0m\u001b[0;34m[\u001b[0m\u001b[0;34m'allow_leading_cols'\u001b[0m\u001b[0;34m]\u001b[0m \u001b[0;34m=\u001b[0m \u001b[0mself\u001b[0m\u001b[0;34m.\u001b[0m\u001b[0mindex_col\u001b[0m \u001b[0;32mis\u001b[0m \u001b[0;32mnot\u001b[0m \u001b[0;32mFalse\u001b[0m\u001b[0;34m\u001b[0m\u001b[0m\n\u001b[1;32m   1604\u001b[0m \u001b[0;34m\u001b[0m\u001b[0m\n\u001b[0;32m-> 1605\u001b[0;31m         \u001b[0mself\u001b[0m\u001b[0;34m.\u001b[0m\u001b[0m_reader\u001b[0m \u001b[0;34m=\u001b[0m \u001b[0mparsers\u001b[0m\u001b[0;34m.\u001b[0m\u001b[0mTextReader\u001b[0m\u001b[0;34m(\u001b[0m\u001b[0msrc\u001b[0m\u001b[0;34m,\u001b[0m \u001b[0;34m**\u001b[0m\u001b[0mkwds\u001b[0m\u001b[0;34m)\u001b[0m\u001b[0;34m\u001b[0m\u001b[0m\n\u001b[0m\u001b[1;32m   1606\u001b[0m \u001b[0;34m\u001b[0m\u001b[0m\n\u001b[1;32m   1607\u001b[0m         \u001b[0;31m# XXX\u001b[0m\u001b[0;34m\u001b[0m\u001b[0;34m\u001b[0m\u001b[0m\n",
      "\u001b[0;32mpandas/_libs/parsers.pyx\u001b[0m in \u001b[0;36mpandas._libs.parsers.TextReader.__cinit__ (pandas/_libs/parsers.c:4209)\u001b[0;34m()\u001b[0m\n",
      "\u001b[0;32mpandas/_libs/parsers.pyx\u001b[0m in \u001b[0;36mpandas._libs.parsers.TextReader._setup_parser_source (pandas/_libs/parsers.c:8873)\u001b[0;34m()\u001b[0m\n",
      "\u001b[0;31mFileNotFoundError\u001b[0m: File b'answer_A_20180226.txt' does not exist"
     ]
    }
   ],
   "source": [
    "true_value = pd.read_table('answer_A_20180226.txt',encoding='gbk',sep='\\t',header=None)"
   ]
  },
  {
   "cell_type": "code",
   "execution_count": null,
   "metadata": {
    "collapsed": true
   },
   "outputs": [],
   "source": [
    "true_value[1].shape"
   ]
  },
  {
   "cell_type": "code",
   "execution_count": null,
   "metadata": {
    "collapsed": true
   },
   "outputs": [],
   "source": [
    "error = ans.values - true_value[1]\n",
    "metric= np.mean(np.square(error))\n",
    "print(metric)"
   ]
  },
  {
   "cell_type": "code",
   "execution_count": null,
   "metadata": {
    "collapsed": true
   },
   "outputs": [],
   "source": [
    "pd.Series(error).hist(bins=30)"
   ]
  },
  {
   "cell_type": "code",
   "execution_count": null,
   "metadata": {
    "collapsed": true
   },
   "outputs": [],
   "source": [
    "cols = ['day_of_week','gap','virtual_date','h_distance','h_length','yesterday_hld']"
   ]
  },
  {
   "cell_type": "code",
   "execution_count": null,
   "metadata": {
    "collapsed": true
   },
   "outputs": [],
   "source": [
    "test_feat.shape"
   ]
  },
  {
   "cell_type": "code",
   "execution_count": null,
   "metadata": {
    "collapsed": true
   },
   "outputs": [],
   "source": [
    "tmp_df = pd.DataFrame([{'day_of_week':0,'gap':0,\n",
    "                                  'virtual_date':0,'h_distance':0,\n",
    "                                  'h_length':0,'yesterday_hld':0}],columns=cols)"
   ]
  },
  {
   "cell_type": "code",
   "execution_count": null,
   "metadata": {
    "collapsed": true
   },
   "outputs": [],
   "source": [
    "tmp_df.head()"
   ]
  },
  {
   "cell_type": "code",
   "execution_count": null,
   "metadata": {
    "collapsed": true
   },
   "outputs": [],
   "source": [
    "test_feat[cols].head()"
   ]
  },
  {
   "cell_type": "code",
   "execution_count": null,
   "metadata": {
    "collapsed": true
   },
   "outputs": [],
   "source": [
    "ana_df = test_feat[cols].copy()\n",
    "ana_df = pd.concat([tmp_df,ana_df], ignore_index=True)\n",
    "ana_df['predict'] = ans.values\n",
    "ana_df['error'] = error\n",
    "ana_df['true_value'] = true_value[1]"
   ]
  },
  {
   "cell_type": "code",
   "execution_count": null,
   "metadata": {
    "collapsed": true
   },
   "outputs": [],
   "source": [
    "ana_df[abs(ana_df['error'])>2000]"
   ]
  },
  {
   "cell_type": "code",
   "execution_count": null,
   "metadata": {
    "collapsed": true
   },
   "outputs": [],
   "source": [
    "ans.mean()"
   ]
  },
  {
   "cell_type": "code",
   "execution_count": null,
   "metadata": {
    "collapsed": true
   },
   "outputs": [],
   "source": [
    "ans.plot()"
   ]
  },
  {
   "cell_type": "code",
   "execution_count": null,
   "metadata": {
    "collapsed": true
   },
   "outputs": [],
   "source": []
  },
  {
   "cell_type": "code",
   "execution_count": null,
   "metadata": {
    "collapsed": true
   },
   "outputs": [],
   "source": []
  }
 ],
 "metadata": {
  "kernelspec": {
   "display_name": "Python 3",
   "language": "python",
   "name": "python3"
  },
  "language_info": {
   "codemirror_mode": {
    "name": "ipython",
    "version": 3
   },
   "file_extension": ".py",
   "mimetype": "text/x-python",
   "name": "python",
   "nbconvert_exporter": "python",
   "pygments_lexer": "ipython3",
   "version": "3.6.8"
  }
 },
 "nbformat": 4,
 "nbformat_minor": 2
}
